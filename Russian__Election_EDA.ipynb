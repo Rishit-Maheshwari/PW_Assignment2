{
 "cells": [
  {
   "cell_type": "code",
   "execution_count": 3,
   "metadata": {
    "id": "TB1lr9fH46M1"
   },
   "outputs": [],
   "source": [
    "import numpy as np\n",
    "import pandas as pd\n",
    "import matplotlib.pyplot as plt\n",
    "import seaborn as sns\n",
    "import warnings\n",
    "warnings.filterwarnings('ignore')"
   ]
  },
  {
   "cell_type": "code",
   "execution_count": 4,
   "metadata": {
    "id": "PVExQawb5fqJ"
   },
   "outputs": [],
   "source": [
    "data_df=pd.read_csv('election2024.csv')"
   ]
  },
  {
   "cell_type": "code",
   "execution_count": 5,
   "metadata": {
    "colab": {
     "base_uri": "https://localhost:8080/",
     "height": 756
    },
    "id": "3-dlf48S6jRX",
    "outputId": "750d6377-c7f3-437c-eee5-d5c8de402796"
   },
   "outputs": [
    {
     "data": {
      "text/html": [
       "<div>\n",
       "<style scoped>\n",
       "    .dataframe tbody tr th:only-of-type {\n",
       "        vertical-align: middle;\n",
       "    }\n",
       "\n",
       "    .dataframe tbody tr th {\n",
       "        vertical-align: top;\n",
       "    }\n",
       "\n",
       "    .dataframe thead th {\n",
       "        text-align: right;\n",
       "    }\n",
       "</style>\n",
       "<table border=\"1\" class=\"dataframe\">\n",
       "  <thead>\n",
       "    <tr style=\"text-align: right;\">\n",
       "      <th></th>\n",
       "      <th>id</th>\n",
       "      <th>sex</th>\n",
       "      <th>age</th>\n",
       "      <th>federal_district</th>\n",
       "      <th>type_of_city</th>\n",
       "      <th>knows_election_date</th>\n",
       "      <th>will_vote</th>\n",
       "      <th>candidate</th>\n",
       "      <th>television_usage</th>\n",
       "      <th>internet_usage</th>\n",
       "      <th>education</th>\n",
       "      <th>income</th>\n",
       "      <th>employment</th>\n",
       "      <th>job_type</th>\n",
       "      <th>company_type</th>\n",
       "      <th>weight1</th>\n",
       "    </tr>\n",
       "  </thead>\n",
       "  <tbody>\n",
       "    <tr>\n",
       "      <th>0</th>\n",
       "      <td>07169ed8148ce047</td>\n",
       "      <td>male</td>\n",
       "      <td>18.0</td>\n",
       "      <td>north caucasian</td>\n",
       "      <td>village</td>\n",
       "      <td>named correct date</td>\n",
       "      <td>not sure</td>\n",
       "      <td>Putin</td>\n",
       "      <td>several times a week</td>\n",
       "      <td>over 4 hours a day</td>\n",
       "      <td>incomplete school education</td>\n",
       "      <td>very high</td>\n",
       "      <td>entrepreneur</td>\n",
       "      <td>NaN</td>\n",
       "      <td>farming</td>\n",
       "      <td>1.445172</td>\n",
       "    </tr>\n",
       "    <tr>\n",
       "      <th>1</th>\n",
       "      <td>0716a4f3354cecdd</td>\n",
       "      <td>male</td>\n",
       "      <td>23.0</td>\n",
       "      <td>north caucasian</td>\n",
       "      <td>village</td>\n",
       "      <td>named correct date</td>\n",
       "      <td>not sure</td>\n",
       "      <td>Putin</td>\n",
       "      <td>once half a year</td>\n",
       "      <td>over 4 hours a day</td>\n",
       "      <td>college</td>\n",
       "      <td>very high</td>\n",
       "      <td>work for hire</td>\n",
       "      <td>commercial organization</td>\n",
       "      <td>trade</td>\n",
       "      <td>1.445172</td>\n",
       "    </tr>\n",
       "    <tr>\n",
       "      <th>2</th>\n",
       "      <td>0716889b304ce79c</td>\n",
       "      <td>male</td>\n",
       "      <td>20.0</td>\n",
       "      <td>volga</td>\n",
       "      <td>city with population of less than 50k</td>\n",
       "      <td>named correct date</td>\n",
       "      <td>definitely yes</td>\n",
       "      <td>Putin</td>\n",
       "      <td>several times a week</td>\n",
       "      <td>over 4 hours a day</td>\n",
       "      <td>college</td>\n",
       "      <td>very high</td>\n",
       "      <td>work for hire</td>\n",
       "      <td>law enforcement agency</td>\n",
       "      <td>law enforcement agency</td>\n",
       "      <td>1.301691</td>\n",
       "    </tr>\n",
       "    <tr>\n",
       "      <th>3</th>\n",
       "      <td>07168e28b5cce563</td>\n",
       "      <td>male</td>\n",
       "      <td>22.0</td>\n",
       "      <td>northwestern</td>\n",
       "      <td>city with population of 1 million and higher</td>\n",
       "      <td>not sure or no answer</td>\n",
       "      <td>not sure</td>\n",
       "      <td>Davankov</td>\n",
       "      <td>several times a week</td>\n",
       "      <td>over 4 hours a day</td>\n",
       "      <td>college</td>\n",
       "      <td>very high</td>\n",
       "      <td>unemployed</td>\n",
       "      <td>NaN</td>\n",
       "      <td>NaN</td>\n",
       "      <td>1.538628</td>\n",
       "    </tr>\n",
       "    <tr>\n",
       "      <th>4</th>\n",
       "      <td>0716a563914ce549</td>\n",
       "      <td>male</td>\n",
       "      <td>21.0</td>\n",
       "      <td>southern</td>\n",
       "      <td>city with population of 1 million and higher</td>\n",
       "      <td>named correct date</td>\n",
       "      <td>definitely yes</td>\n",
       "      <td>Putin</td>\n",
       "      <td>does not watch</td>\n",
       "      <td>over 4 hours a day</td>\n",
       "      <td>bachelor degree</td>\n",
       "      <td>very high</td>\n",
       "      <td>employed student</td>\n",
       "      <td>commercial organization</td>\n",
       "      <td>tech, programming, communications</td>\n",
       "      <td>1.967015</td>\n",
       "    </tr>\n",
       "    <tr>\n",
       "      <th>...</th>\n",
       "      <td>...</td>\n",
       "      <td>...</td>\n",
       "      <td>...</td>\n",
       "      <td>...</td>\n",
       "      <td>...</td>\n",
       "      <td>...</td>\n",
       "      <td>...</td>\n",
       "      <td>...</td>\n",
       "      <td>...</td>\n",
       "      <td>...</td>\n",
       "      <td>...</td>\n",
       "      <td>...</td>\n",
       "      <td>...</td>\n",
       "      <td>...</td>\n",
       "      <td>...</td>\n",
       "      <td>...</td>\n",
       "    </tr>\n",
       "    <tr>\n",
       "      <th>1595</th>\n",
       "      <td>0716b23c2c0cee3a</td>\n",
       "      <td>male</td>\n",
       "      <td>61.0</td>\n",
       "      <td>central</td>\n",
       "      <td>settlement</td>\n",
       "      <td>named correct date</td>\n",
       "      <td>definitely no</td>\n",
       "      <td>will not take part</td>\n",
       "      <td>over 4 hours a day</td>\n",
       "      <td>less than 4 hours a day</td>\n",
       "      <td>bachelor degree</td>\n",
       "      <td>hard to say</td>\n",
       "      <td>unemployed pensioner</td>\n",
       "      <td>NaN</td>\n",
       "      <td>NaN</td>\n",
       "      <td>1.270761</td>\n",
       "    </tr>\n",
       "    <tr>\n",
       "      <th>1596</th>\n",
       "      <td>07168254d14ceb55</td>\n",
       "      <td>female</td>\n",
       "      <td>80.0</td>\n",
       "      <td>volga</td>\n",
       "      <td>village</td>\n",
       "      <td>named correct date</td>\n",
       "      <td>likely yes</td>\n",
       "      <td>struggle to answer</td>\n",
       "      <td>several times a week</td>\n",
       "      <td>does not use internet</td>\n",
       "      <td>college</td>\n",
       "      <td>hard to say</td>\n",
       "      <td>unemployed pensioner</td>\n",
       "      <td>NaN</td>\n",
       "      <td>NaN</td>\n",
       "      <td>0.921724</td>\n",
       "    </tr>\n",
       "    <tr>\n",
       "      <th>1597</th>\n",
       "      <td>071690f34d4ce164</td>\n",
       "      <td>female</td>\n",
       "      <td>76.0</td>\n",
       "      <td>northwestern</td>\n",
       "      <td>city with population of 50-100k</td>\n",
       "      <td>named correct date</td>\n",
       "      <td>definitely yes</td>\n",
       "      <td>Putin</td>\n",
       "      <td>does not watch</td>\n",
       "      <td>over 4 hours a day</td>\n",
       "      <td>bachelor degree</td>\n",
       "      <td>hard to say</td>\n",
       "      <td>unemployed pensioner</td>\n",
       "      <td>NaN</td>\n",
       "      <td>NaN</td>\n",
       "      <td>1.396691</td>\n",
       "    </tr>\n",
       "    <tr>\n",
       "      <th>1598</th>\n",
       "      <td>0716bfa9c48ce79a</td>\n",
       "      <td>female</td>\n",
       "      <td>74.0</td>\n",
       "      <td>central</td>\n",
       "      <td>city with population of less than 50k</td>\n",
       "      <td>not sure or no answer</td>\n",
       "      <td>definitely yes</td>\n",
       "      <td>Putin</td>\n",
       "      <td>over 4 hours a day</td>\n",
       "      <td>over 4 hours a day</td>\n",
       "      <td>academic degree</td>\n",
       "      <td>hard to say</td>\n",
       "      <td>employed pensioner</td>\n",
       "      <td>commercial organization</td>\n",
       "      <td>industry, manufacturing</td>\n",
       "      <td>0.995849</td>\n",
       "    </tr>\n",
       "    <tr>\n",
       "      <th>1599</th>\n",
       "      <td>07168088318cef88</td>\n",
       "      <td>female</td>\n",
       "      <td>76.0</td>\n",
       "      <td>ural</td>\n",
       "      <td>village</td>\n",
       "      <td>named correct date</td>\n",
       "      <td>definitely yes</td>\n",
       "      <td>Putin</td>\n",
       "      <td>over 4 hours a day</td>\n",
       "      <td>over 4 hours a day</td>\n",
       "      <td>school</td>\n",
       "      <td>hard to say</td>\n",
       "      <td>unemployed pensioner</td>\n",
       "      <td>NaN</td>\n",
       "      <td>NaN</td>\n",
       "      <td>0.860836</td>\n",
       "    </tr>\n",
       "  </tbody>\n",
       "</table>\n",
       "<p>1600 rows × 16 columns</p>\n",
       "</div>"
      ],
      "text/plain": [
       "                    id     sex   age federal_district  \\\n",
       "0     07169ed8148ce047    male  18.0  north caucasian   \n",
       "1     0716a4f3354cecdd    male  23.0  north caucasian   \n",
       "2     0716889b304ce79c    male  20.0            volga   \n",
       "3     07168e28b5cce563    male  22.0     northwestern   \n",
       "4     0716a563914ce549    male  21.0         southern   \n",
       "...                ...     ...   ...              ...   \n",
       "1595  0716b23c2c0cee3a    male  61.0          central   \n",
       "1596  07168254d14ceb55  female  80.0            volga   \n",
       "1597  071690f34d4ce164  female  76.0     northwestern   \n",
       "1598  0716bfa9c48ce79a  female  74.0          central   \n",
       "1599  07168088318cef88  female  76.0             ural   \n",
       "\n",
       "                                      type_of_city    knows_election_date  \\\n",
       "0                                          village     named correct date   \n",
       "1                                          village     named correct date   \n",
       "2            city with population of less than 50k     named correct date   \n",
       "3     city with population of 1 million and higher  not sure or no answer   \n",
       "4     city with population of 1 million and higher     named correct date   \n",
       "...                                            ...                    ...   \n",
       "1595                                    settlement     named correct date   \n",
       "1596                                       village     named correct date   \n",
       "1597               city with population of 50-100k     named correct date   \n",
       "1598         city with population of less than 50k  not sure or no answer   \n",
       "1599                                       village     named correct date   \n",
       "\n",
       "           will_vote           candidate      television_usage  \\\n",
       "0           not sure               Putin  several times a week   \n",
       "1           not sure               Putin      once half a year   \n",
       "2     definitely yes               Putin  several times a week   \n",
       "3           not sure            Davankov  several times a week   \n",
       "4     definitely yes               Putin        does not watch   \n",
       "...              ...                 ...                   ...   \n",
       "1595   definitely no  will not take part    over 4 hours a day   \n",
       "1596      likely yes  struggle to answer  several times a week   \n",
       "1597  definitely yes               Putin        does not watch   \n",
       "1598  definitely yes               Putin    over 4 hours a day   \n",
       "1599  definitely yes               Putin    over 4 hours a day   \n",
       "\n",
       "               internet_usage                    education       income  \\\n",
       "0          over 4 hours a day  incomplete school education    very high   \n",
       "1          over 4 hours a day                      college    very high   \n",
       "2          over 4 hours a day                      college    very high   \n",
       "3          over 4 hours a day                      college    very high   \n",
       "4          over 4 hours a day              bachelor degree    very high   \n",
       "...                       ...                          ...          ...   \n",
       "1595  less than 4 hours a day              bachelor degree  hard to say   \n",
       "1596    does not use internet                      college  hard to say   \n",
       "1597       over 4 hours a day              bachelor degree  hard to say   \n",
       "1598       over 4 hours a day              academic degree  hard to say   \n",
       "1599       over 4 hours a day                       school  hard to say   \n",
       "\n",
       "                employment                 job_type  \\\n",
       "0             entrepreneur                      NaN   \n",
       "1            work for hire  commercial organization   \n",
       "2            work for hire   law enforcement agency   \n",
       "3               unemployed                      NaN   \n",
       "4         employed student  commercial organization   \n",
       "...                    ...                      ...   \n",
       "1595  unemployed pensioner                      NaN   \n",
       "1596  unemployed pensioner                      NaN   \n",
       "1597  unemployed pensioner                      NaN   \n",
       "1598    employed pensioner  commercial organization   \n",
       "1599  unemployed pensioner                      NaN   \n",
       "\n",
       "                           company_type   weight1  \n",
       "0                               farming  1.445172  \n",
       "1                                 trade  1.445172  \n",
       "2                law enforcement agency  1.301691  \n",
       "3                                   NaN  1.538628  \n",
       "4     tech, programming, communications  1.967015  \n",
       "...                                 ...       ...  \n",
       "1595                                NaN  1.270761  \n",
       "1596                                NaN  0.921724  \n",
       "1597                                NaN  1.396691  \n",
       "1598            industry, manufacturing  0.995849  \n",
       "1599                                NaN  0.860836  \n",
       "\n",
       "[1600 rows x 16 columns]"
      ]
     },
     "execution_count": 5,
     "metadata": {},
     "output_type": "execute_result"
    }
   ],
   "source": [
    "data_df"
   ]
  },
  {
   "cell_type": "code",
   "execution_count": 6,
   "metadata": {
    "colab": {
     "base_uri": "https://localhost:8080/"
    },
    "id": "ht5Ayu816ldx",
    "outputId": "bdd8970f-c64d-4cc8-fc50-1209d81ba304"
   },
   "outputs": [
    {
     "name": "stdout",
     "output_type": "stream",
     "text": [
      "<class 'pandas.core.frame.DataFrame'>\n",
      "RangeIndex: 1600 entries, 0 to 1599\n",
      "Data columns (total 16 columns):\n",
      " #   Column               Non-Null Count  Dtype  \n",
      "---  ------               --------------  -----  \n",
      " 0   id                   1600 non-null   object \n",
      " 1   sex                  1600 non-null   object \n",
      " 2   age                  1600 non-null   float64\n",
      " 3   federal_district     1600 non-null   object \n",
      " 4   type_of_city         1600 non-null   object \n",
      " 5   knows_election_date  1600 non-null   object \n",
      " 6   will_vote            1600 non-null   object \n",
      " 7   candidate            1600 non-null   object \n",
      " 8   television_usage     1600 non-null   object \n",
      " 9   internet_usage       1600 non-null   object \n",
      " 10  education            1600 non-null   object \n",
      " 11  income               1600 non-null   object \n",
      " 12  employment           1600 non-null   object \n",
      " 13  job_type             692 non-null    object \n",
      " 14  company_type         879 non-null    object \n",
      " 15  weight1              1600 non-null   float64\n",
      "dtypes: float64(2), object(14)\n",
      "memory usage: 200.1+ KB\n"
     ]
    }
   ],
   "source": [
    "data_df.info()"
   ]
  },
  {
   "cell_type": "code",
   "execution_count": 7,
   "metadata": {
    "colab": {
     "base_uri": "https://localhost:8080/",
     "height": 585
    },
    "id": "ctJBnwHT7S3U",
    "outputId": "16494a84-64a4-4dc5-af33-07657850fd9b"
   },
   "outputs": [
    {
     "data": {
      "text/plain": [
       "id                       0\n",
       "sex                      0\n",
       "age                      0\n",
       "federal_district         0\n",
       "type_of_city             0\n",
       "knows_election_date      0\n",
       "will_vote                0\n",
       "candidate                0\n",
       "television_usage         0\n",
       "internet_usage           0\n",
       "education                0\n",
       "income                   0\n",
       "employment               0\n",
       "job_type               908\n",
       "company_type           721\n",
       "weight1                  0\n",
       "dtype: int64"
      ]
     },
     "execution_count": 7,
     "metadata": {},
     "output_type": "execute_result"
    }
   ],
   "source": [
    "data_df.isnull().sum()"
   ]
  },
  {
   "cell_type": "code",
   "execution_count": 8,
   "metadata": {
    "colab": {
     "base_uri": "https://localhost:8080/",
     "height": 300
    },
    "id": "11XJzMDF8d6n",
    "outputId": "ee0a20fc-91c6-4d04-b420-fa067aae5110"
   },
   "outputs": [
    {
     "data": {
      "text/html": [
       "<div>\n",
       "<style scoped>\n",
       "    .dataframe tbody tr th:only-of-type {\n",
       "        vertical-align: middle;\n",
       "    }\n",
       "\n",
       "    .dataframe tbody tr th {\n",
       "        vertical-align: top;\n",
       "    }\n",
       "\n",
       "    .dataframe thead th {\n",
       "        text-align: right;\n",
       "    }\n",
       "</style>\n",
       "<table border=\"1\" class=\"dataframe\">\n",
       "  <thead>\n",
       "    <tr style=\"text-align: right;\">\n",
       "      <th></th>\n",
       "      <th>age</th>\n",
       "      <th>weight1</th>\n",
       "    </tr>\n",
       "  </thead>\n",
       "  <tbody>\n",
       "    <tr>\n",
       "      <th>count</th>\n",
       "      <td>1600.000000</td>\n",
       "      <td>1600.000000</td>\n",
       "    </tr>\n",
       "    <tr>\n",
       "      <th>mean</th>\n",
       "      <td>49.936250</td>\n",
       "      <td>1.000000</td>\n",
       "    </tr>\n",
       "    <tr>\n",
       "      <th>std</th>\n",
       "      <td>16.901797</td>\n",
       "      <td>0.327084</td>\n",
       "    </tr>\n",
       "    <tr>\n",
       "      <th>min</th>\n",
       "      <td>18.000000</td>\n",
       "      <td>0.468226</td>\n",
       "    </tr>\n",
       "    <tr>\n",
       "      <th>25%</th>\n",
       "      <td>37.000000</td>\n",
       "      <td>0.772224</td>\n",
       "    </tr>\n",
       "    <tr>\n",
       "      <th>50%</th>\n",
       "      <td>49.000000</td>\n",
       "      <td>0.921724</td>\n",
       "    </tr>\n",
       "    <tr>\n",
       "      <th>75%</th>\n",
       "      <td>64.000000</td>\n",
       "      <td>1.158913</td>\n",
       "    </tr>\n",
       "    <tr>\n",
       "      <th>max</th>\n",
       "      <td>90.000000</td>\n",
       "      <td>2.515072</td>\n",
       "    </tr>\n",
       "  </tbody>\n",
       "</table>\n",
       "</div>"
      ],
      "text/plain": [
       "               age      weight1\n",
       "count  1600.000000  1600.000000\n",
       "mean     49.936250     1.000000\n",
       "std      16.901797     0.327084\n",
       "min      18.000000     0.468226\n",
       "25%      37.000000     0.772224\n",
       "50%      49.000000     0.921724\n",
       "75%      64.000000     1.158913\n",
       "max      90.000000     2.515072"
      ]
     },
     "execution_count": 8,
     "metadata": {},
     "output_type": "execute_result"
    }
   ],
   "source": [
    "data_df.describe()"
   ]
  },
  {
   "cell_type": "code",
   "execution_count": 9,
   "metadata": {
    "colab": {
     "base_uri": "https://localhost:8080/"
    },
    "id": "SprLLUJb8x02",
    "outputId": "5da6785b-d13c-482f-bbf3-d4178c641bc5"
   },
   "outputs": [
    {
     "data": {
      "text/plain": [
       "0"
      ]
     },
     "execution_count": 9,
     "metadata": {},
     "output_type": "execute_result"
    }
   ],
   "source": [
    "data_df.duplicated().sum()"
   ]
  },
  {
   "cell_type": "code",
   "execution_count": 10,
   "metadata": {
    "colab": {
     "base_uri": "https://localhost:8080/",
     "height": 458
    },
    "id": "-yCY6Adw81aF",
    "outputId": "8a5ca4cf-0e65-4596-bc01-101583fa25d7"
   },
   "outputs": [
    {
     "data": {
      "text/plain": [
       "0                                            village\n",
       "1                                            village\n",
       "2              city with population of less than 50k\n",
       "3       city with population of 1 million and higher\n",
       "4       city with population of 1 million and higher\n",
       "                            ...                     \n",
       "1595                                      settlement\n",
       "1596                                         village\n",
       "1597                 city with population of 50-100k\n",
       "1598           city with population of less than 50k\n",
       "1599                                         village\n",
       "Name: type_of_city, Length: 1600, dtype: object"
      ]
     },
     "execution_count": 10,
     "metadata": {},
     "output_type": "execute_result"
    }
   ],
   "source": [
    "data_df['type_of_city']"
   ]
  },
  {
   "cell_type": "code",
   "execution_count": 11,
   "metadata": {
    "colab": {
     "base_uri": "https://localhost:8080/"
    },
    "id": "TC0xJn-v-SEF",
    "outputId": "8393b4d1-96b2-45d5-e4ba-1f3fbd90b054"
   },
   "outputs": [
    {
     "data": {
      "text/plain": [
       "Index(['id', 'sex', 'age', 'federal_district', 'type_of_city',\n",
       "       'knows_election_date', 'will_vote', 'candidate', 'television_usage',\n",
       "       'internet_usage', 'education', 'income', 'employment', 'job_type',\n",
       "       'company_type', 'weight1'],\n",
       "      dtype='object')"
      ]
     },
     "execution_count": 11,
     "metadata": {},
     "output_type": "execute_result"
    }
   ],
   "source": [
    "data_df.columns"
   ]
  },
  {
   "cell_type": "code",
   "execution_count": 12,
   "metadata": {
    "colab": {
     "base_uri": "https://localhost:8080/",
     "height": 458
    },
    "id": "lBgy88EI9Tyv",
    "outputId": "0802becc-5a96-45df-cdd2-b1987901944c"
   },
   "outputs": [
    {
     "data": {
      "text/plain": [
       "0                           NaN\n",
       "1       commercial organization\n",
       "2        law enforcement agency\n",
       "3                           NaN\n",
       "4       commercial organization\n",
       "                 ...           \n",
       "1595                        NaN\n",
       "1596                        NaN\n",
       "1597                        NaN\n",
       "1598    commercial organization\n",
       "1599                        NaN\n",
       "Name: job_type, Length: 1600, dtype: object"
      ]
     },
     "execution_count": 12,
     "metadata": {},
     "output_type": "execute_result"
    }
   ],
   "source": [
    "data_df['job_type']"
   ]
  },
  {
   "cell_type": "code",
   "execution_count": 13,
   "metadata": {
    "colab": {
     "base_uri": "https://localhost:8080/",
     "height": 756
    },
    "id": "DNvjrmeR9bos",
    "outputId": "0b4bf485-251e-4089-a02d-4bb54790622b"
   },
   "outputs": [
    {
     "data": {
      "text/html": [
       "<div>\n",
       "<style scoped>\n",
       "    .dataframe tbody tr th:only-of-type {\n",
       "        vertical-align: middle;\n",
       "    }\n",
       "\n",
       "    .dataframe tbody tr th {\n",
       "        vertical-align: top;\n",
       "    }\n",
       "\n",
       "    .dataframe thead th {\n",
       "        text-align: right;\n",
       "    }\n",
       "</style>\n",
       "<table border=\"1\" class=\"dataframe\">\n",
       "  <thead>\n",
       "    <tr style=\"text-align: right;\">\n",
       "      <th></th>\n",
       "      <th>id</th>\n",
       "      <th>sex</th>\n",
       "      <th>age</th>\n",
       "      <th>federal_district</th>\n",
       "      <th>type_of_city</th>\n",
       "      <th>knows_election_date</th>\n",
       "      <th>will_vote</th>\n",
       "      <th>candidate</th>\n",
       "      <th>television_usage</th>\n",
       "      <th>internet_usage</th>\n",
       "      <th>education</th>\n",
       "      <th>income</th>\n",
       "      <th>employment</th>\n",
       "      <th>weight1</th>\n",
       "    </tr>\n",
       "  </thead>\n",
       "  <tbody>\n",
       "    <tr>\n",
       "      <th>0</th>\n",
       "      <td>07169ed8148ce047</td>\n",
       "      <td>male</td>\n",
       "      <td>18.0</td>\n",
       "      <td>north caucasian</td>\n",
       "      <td>village</td>\n",
       "      <td>named correct date</td>\n",
       "      <td>not sure</td>\n",
       "      <td>Putin</td>\n",
       "      <td>several times a week</td>\n",
       "      <td>over 4 hours a day</td>\n",
       "      <td>incomplete school education</td>\n",
       "      <td>very high</td>\n",
       "      <td>entrepreneur</td>\n",
       "      <td>1.445172</td>\n",
       "    </tr>\n",
       "    <tr>\n",
       "      <th>1</th>\n",
       "      <td>0716a4f3354cecdd</td>\n",
       "      <td>male</td>\n",
       "      <td>23.0</td>\n",
       "      <td>north caucasian</td>\n",
       "      <td>village</td>\n",
       "      <td>named correct date</td>\n",
       "      <td>not sure</td>\n",
       "      <td>Putin</td>\n",
       "      <td>once half a year</td>\n",
       "      <td>over 4 hours a day</td>\n",
       "      <td>college</td>\n",
       "      <td>very high</td>\n",
       "      <td>work for hire</td>\n",
       "      <td>1.445172</td>\n",
       "    </tr>\n",
       "    <tr>\n",
       "      <th>2</th>\n",
       "      <td>0716889b304ce79c</td>\n",
       "      <td>male</td>\n",
       "      <td>20.0</td>\n",
       "      <td>volga</td>\n",
       "      <td>city with population of less than 50k</td>\n",
       "      <td>named correct date</td>\n",
       "      <td>definitely yes</td>\n",
       "      <td>Putin</td>\n",
       "      <td>several times a week</td>\n",
       "      <td>over 4 hours a day</td>\n",
       "      <td>college</td>\n",
       "      <td>very high</td>\n",
       "      <td>work for hire</td>\n",
       "      <td>1.301691</td>\n",
       "    </tr>\n",
       "    <tr>\n",
       "      <th>3</th>\n",
       "      <td>07168e28b5cce563</td>\n",
       "      <td>male</td>\n",
       "      <td>22.0</td>\n",
       "      <td>northwestern</td>\n",
       "      <td>city with population of 1 million and higher</td>\n",
       "      <td>not sure or no answer</td>\n",
       "      <td>not sure</td>\n",
       "      <td>Davankov</td>\n",
       "      <td>several times a week</td>\n",
       "      <td>over 4 hours a day</td>\n",
       "      <td>college</td>\n",
       "      <td>very high</td>\n",
       "      <td>unemployed</td>\n",
       "      <td>1.538628</td>\n",
       "    </tr>\n",
       "    <tr>\n",
       "      <th>4</th>\n",
       "      <td>0716a563914ce549</td>\n",
       "      <td>male</td>\n",
       "      <td>21.0</td>\n",
       "      <td>southern</td>\n",
       "      <td>city with population of 1 million and higher</td>\n",
       "      <td>named correct date</td>\n",
       "      <td>definitely yes</td>\n",
       "      <td>Putin</td>\n",
       "      <td>does not watch</td>\n",
       "      <td>over 4 hours a day</td>\n",
       "      <td>bachelor degree</td>\n",
       "      <td>very high</td>\n",
       "      <td>employed student</td>\n",
       "      <td>1.967015</td>\n",
       "    </tr>\n",
       "    <tr>\n",
       "      <th>...</th>\n",
       "      <td>...</td>\n",
       "      <td>...</td>\n",
       "      <td>...</td>\n",
       "      <td>...</td>\n",
       "      <td>...</td>\n",
       "      <td>...</td>\n",
       "      <td>...</td>\n",
       "      <td>...</td>\n",
       "      <td>...</td>\n",
       "      <td>...</td>\n",
       "      <td>...</td>\n",
       "      <td>...</td>\n",
       "      <td>...</td>\n",
       "      <td>...</td>\n",
       "    </tr>\n",
       "    <tr>\n",
       "      <th>1595</th>\n",
       "      <td>0716b23c2c0cee3a</td>\n",
       "      <td>male</td>\n",
       "      <td>61.0</td>\n",
       "      <td>central</td>\n",
       "      <td>settlement</td>\n",
       "      <td>named correct date</td>\n",
       "      <td>definitely no</td>\n",
       "      <td>will not take part</td>\n",
       "      <td>over 4 hours a day</td>\n",
       "      <td>less than 4 hours a day</td>\n",
       "      <td>bachelor degree</td>\n",
       "      <td>hard to say</td>\n",
       "      <td>unemployed pensioner</td>\n",
       "      <td>1.270761</td>\n",
       "    </tr>\n",
       "    <tr>\n",
       "      <th>1596</th>\n",
       "      <td>07168254d14ceb55</td>\n",
       "      <td>female</td>\n",
       "      <td>80.0</td>\n",
       "      <td>volga</td>\n",
       "      <td>village</td>\n",
       "      <td>named correct date</td>\n",
       "      <td>likely yes</td>\n",
       "      <td>struggle to answer</td>\n",
       "      <td>several times a week</td>\n",
       "      <td>does not use internet</td>\n",
       "      <td>college</td>\n",
       "      <td>hard to say</td>\n",
       "      <td>unemployed pensioner</td>\n",
       "      <td>0.921724</td>\n",
       "    </tr>\n",
       "    <tr>\n",
       "      <th>1597</th>\n",
       "      <td>071690f34d4ce164</td>\n",
       "      <td>female</td>\n",
       "      <td>76.0</td>\n",
       "      <td>northwestern</td>\n",
       "      <td>city with population of 50-100k</td>\n",
       "      <td>named correct date</td>\n",
       "      <td>definitely yes</td>\n",
       "      <td>Putin</td>\n",
       "      <td>does not watch</td>\n",
       "      <td>over 4 hours a day</td>\n",
       "      <td>bachelor degree</td>\n",
       "      <td>hard to say</td>\n",
       "      <td>unemployed pensioner</td>\n",
       "      <td>1.396691</td>\n",
       "    </tr>\n",
       "    <tr>\n",
       "      <th>1598</th>\n",
       "      <td>0716bfa9c48ce79a</td>\n",
       "      <td>female</td>\n",
       "      <td>74.0</td>\n",
       "      <td>central</td>\n",
       "      <td>city with population of less than 50k</td>\n",
       "      <td>not sure or no answer</td>\n",
       "      <td>definitely yes</td>\n",
       "      <td>Putin</td>\n",
       "      <td>over 4 hours a day</td>\n",
       "      <td>over 4 hours a day</td>\n",
       "      <td>academic degree</td>\n",
       "      <td>hard to say</td>\n",
       "      <td>employed pensioner</td>\n",
       "      <td>0.995849</td>\n",
       "    </tr>\n",
       "    <tr>\n",
       "      <th>1599</th>\n",
       "      <td>07168088318cef88</td>\n",
       "      <td>female</td>\n",
       "      <td>76.0</td>\n",
       "      <td>ural</td>\n",
       "      <td>village</td>\n",
       "      <td>named correct date</td>\n",
       "      <td>definitely yes</td>\n",
       "      <td>Putin</td>\n",
       "      <td>over 4 hours a day</td>\n",
       "      <td>over 4 hours a day</td>\n",
       "      <td>school</td>\n",
       "      <td>hard to say</td>\n",
       "      <td>unemployed pensioner</td>\n",
       "      <td>0.860836</td>\n",
       "    </tr>\n",
       "  </tbody>\n",
       "</table>\n",
       "<p>1600 rows × 14 columns</p>\n",
       "</div>"
      ],
      "text/plain": [
       "                    id     sex   age federal_district  \\\n",
       "0     07169ed8148ce047    male  18.0  north caucasian   \n",
       "1     0716a4f3354cecdd    male  23.0  north caucasian   \n",
       "2     0716889b304ce79c    male  20.0            volga   \n",
       "3     07168e28b5cce563    male  22.0     northwestern   \n",
       "4     0716a563914ce549    male  21.0         southern   \n",
       "...                ...     ...   ...              ...   \n",
       "1595  0716b23c2c0cee3a    male  61.0          central   \n",
       "1596  07168254d14ceb55  female  80.0            volga   \n",
       "1597  071690f34d4ce164  female  76.0     northwestern   \n",
       "1598  0716bfa9c48ce79a  female  74.0          central   \n",
       "1599  07168088318cef88  female  76.0             ural   \n",
       "\n",
       "                                      type_of_city    knows_election_date  \\\n",
       "0                                          village     named correct date   \n",
       "1                                          village     named correct date   \n",
       "2            city with population of less than 50k     named correct date   \n",
       "3     city with population of 1 million and higher  not sure or no answer   \n",
       "4     city with population of 1 million and higher     named correct date   \n",
       "...                                            ...                    ...   \n",
       "1595                                    settlement     named correct date   \n",
       "1596                                       village     named correct date   \n",
       "1597               city with population of 50-100k     named correct date   \n",
       "1598         city with population of less than 50k  not sure or no answer   \n",
       "1599                                       village     named correct date   \n",
       "\n",
       "           will_vote           candidate      television_usage  \\\n",
       "0           not sure               Putin  several times a week   \n",
       "1           not sure               Putin      once half a year   \n",
       "2     definitely yes               Putin  several times a week   \n",
       "3           not sure            Davankov  several times a week   \n",
       "4     definitely yes               Putin        does not watch   \n",
       "...              ...                 ...                   ...   \n",
       "1595   definitely no  will not take part    over 4 hours a day   \n",
       "1596      likely yes  struggle to answer  several times a week   \n",
       "1597  definitely yes               Putin        does not watch   \n",
       "1598  definitely yes               Putin    over 4 hours a day   \n",
       "1599  definitely yes               Putin    over 4 hours a day   \n",
       "\n",
       "               internet_usage                    education       income  \\\n",
       "0          over 4 hours a day  incomplete school education    very high   \n",
       "1          over 4 hours a day                      college    very high   \n",
       "2          over 4 hours a day                      college    very high   \n",
       "3          over 4 hours a day                      college    very high   \n",
       "4          over 4 hours a day              bachelor degree    very high   \n",
       "...                       ...                          ...          ...   \n",
       "1595  less than 4 hours a day              bachelor degree  hard to say   \n",
       "1596    does not use internet                      college  hard to say   \n",
       "1597       over 4 hours a day              bachelor degree  hard to say   \n",
       "1598       over 4 hours a day              academic degree  hard to say   \n",
       "1599       over 4 hours a day                       school  hard to say   \n",
       "\n",
       "                employment   weight1  \n",
       "0             entrepreneur  1.445172  \n",
       "1            work for hire  1.445172  \n",
       "2            work for hire  1.301691  \n",
       "3               unemployed  1.538628  \n",
       "4         employed student  1.967015  \n",
       "...                    ...       ...  \n",
       "1595  unemployed pensioner  1.270761  \n",
       "1596  unemployed pensioner  0.921724  \n",
       "1597  unemployed pensioner  1.396691  \n",
       "1598    employed pensioner  0.995849  \n",
       "1599  unemployed pensioner  0.860836  \n",
       "\n",
       "[1600 rows x 14 columns]"
      ]
     },
     "execution_count": 13,
     "metadata": {},
     "output_type": "execute_result"
    }
   ],
   "source": [
    "data_df.dropna(axis=1)"
   ]
  },
  {
   "cell_type": "code",
   "execution_count": 14,
   "metadata": {
    "id": "8BNMVhfJ_ljp"
   },
   "outputs": [],
   "source": [
    "categorical_data=[column for column in data_df.columns if data_df[column].dtype==\"object\" ]"
   ]
  },
  {
   "cell_type": "code",
   "execution_count": 15,
   "metadata": {
    "id": "i1Y0b0ycALlh"
   },
   "outputs": [],
   "source": [
    "numerical_data=[column for column in data_df.columns if data_df[column].dtype!=\"object\" ]"
   ]
  },
  {
   "cell_type": "code",
   "execution_count": 16,
   "metadata": {
    "colab": {
     "base_uri": "https://localhost:8080/"
    },
    "id": "uwmg70ceAusA",
    "outputId": "e4403650-f539-4269-94a1-c1faf961553d"
   },
   "outputs": [
    {
     "data": {
      "text/plain": [
       "['id',\n",
       " 'sex',\n",
       " 'federal_district',\n",
       " 'type_of_city',\n",
       " 'knows_election_date',\n",
       " 'will_vote',\n",
       " 'candidate',\n",
       " 'television_usage',\n",
       " 'internet_usage',\n",
       " 'education',\n",
       " 'income',\n",
       " 'employment',\n",
       " 'job_type',\n",
       " 'company_type']"
      ]
     },
     "execution_count": 16,
     "metadata": {},
     "output_type": "execute_result"
    }
   ],
   "source": [
    "categorical_data"
   ]
  },
  {
   "cell_type": "code",
   "execution_count": 17,
   "metadata": {
    "colab": {
     "base_uri": "https://localhost:8080/"
    },
    "id": "GVhw6KnOA7OH",
    "outputId": "fc466c70-7b95-4d02-b580-06fdbc7b8658"
   },
   "outputs": [
    {
     "data": {
      "text/plain": [
       "['age', 'weight1']"
      ]
     },
     "execution_count": 17,
     "metadata": {},
     "output_type": "execute_result"
    }
   ],
   "source": [
    "numerical_data"
   ]
  },
  {
   "cell_type": "code",
   "execution_count": 18,
   "metadata": {
    "colab": {
     "base_uri": "https://localhost:8080/",
     "height": 303
    },
    "id": "uUguaLQBCcWT",
    "outputId": "bacbab95-8708-4d0a-cd7f-1249bd095b8b"
   },
   "outputs": [
    {
     "data": {
      "text/plain": [
       "will_vote\n",
       "definitely yes        1062\n",
       "likely yes             218\n",
       "not sure               166\n",
       "definitely no           86\n",
       "likely no               55\n",
       "struggle to answer      13\n",
       "Name: count, dtype: int64"
      ]
     },
     "execution_count": 18,
     "metadata": {},
     "output_type": "execute_result"
    }
   ],
   "source": [
    "data_df['will_vote'].value_counts()"
   ]
  },
  {
   "cell_type": "code",
   "execution_count": 19,
   "metadata": {
    "colab": {
     "base_uri": "https://localhost:8080/",
     "height": 493
    },
    "id": "337mXdclA9-k",
    "outputId": "81548d0e-9661-42ec-b598-d623b75af19f"
   },
   "outputs": [
    {
     "data": {
      "image/png": "[encoded data removed]",
      "text/plain": [
       "<Figure size 640x480 with 1 Axes>"
      ]
     },
     "metadata": {},
     "output_type": "display_data"
    }
   ],
   "source": [
    "plt.bar(data_df['will_vote'].value_counts().index,height=data_df['will_vote'].value_counts())\n",
    "plt.xticks(rotation=30)\n",
    "plt.show()"
   ]
  },
  {
   "cell_type": "code",
   "execution_count": 20,
   "metadata": {
    "colab": {
     "base_uri": "https://localhost:8080/",
     "height": 241
    },
    "id": "INvQwkrmDRek",
    "outputId": "57d39d02-2e9f-47c3-9dc2-de11a522a89e"
   },
   "outputs": [
    {
     "data": {
      "text/plain": [
       "knows_election_date\n",
       "named correct date       1361\n",
       "not sure or no answer     165\n",
       "named correct year         55\n",
       "wrong answer               19\n",
       "Name: count, dtype: int64"
      ]
     },
     "execution_count": 20,
     "metadata": {},
     "output_type": "execute_result"
    }
   ],
   "source": [
    "data_df['knows_election_date'].value_counts()"
   ]
  },
  {
   "cell_type": "code",
   "execution_count": 21,
   "metadata": {
    "colab": {
     "base_uri": "https://localhost:8080/",
     "height": 481
    },
    "id": "Nj9wTBpeEc7U",
    "outputId": "8fb3e435-fc16-4da8-dadd-874c4e3e846e"
   },
   "outputs": [
    {
     "data": {
      "image/png": "[encoded data removed]",
      "text/plain": [
       "<Figure size 640x480 with 1 Axes>"
      ]
     },
     "metadata": {},
     "output_type": "display_data"
    }
   ],
   "source": [
    "plt.bar(x=data_df['knows_election_date'].value_counts().index,height=data_df['knows_election_date'].value_counts(),color='black')\n",
    "plt.xticks(rotation=20)\n",
    "plt.show()"
   ]
  },
  {
   "cell_type": "code",
   "execution_count": 22,
   "metadata": {
    "colab": {
     "base_uri": "https://localhost:8080/",
     "height": 449
    },
    "id": "Y_htZc3iHKXs",
    "outputId": "c0db59b6-ac33-41fc-e6c3-e6d3e4974125"
   },
   "outputs": [
    {
     "data": {
      "image/png": "[encoded data removed]",
      "text/plain": [
       "<Figure size 640x480 with 1 Axes>"
      ]
     },
     "metadata": {},
     "output_type": "display_data"
    }
   ],
   "source": [
    "sns.countplot(x=data_df['sex'], data=data_df,palette='rainbow',hue=data_df['will_vote'])\n",
    "plt.show()"
   ]
  },
  {
   "cell_type": "code",
   "execution_count": 23,
   "metadata": {
    "colab": {
     "base_uri": "https://localhost:8080/",
     "height": 491
    },
    "id": "9uCvSFUWJ0xH",
    "outputId": "f4a14106-b75f-456b-c103-f4d68e408a01"
   },
   "outputs": [
    {
     "data": {
      "image/png": "[encoded data removed]",
      "text/plain": [
       "<Figure size 640x480 with 1 Axes>"
      ]
     },
     "metadata": {},
     "output_type": "display_data"
    }
   ],
   "source": [
    "sns.countplot(x=data_df['knows_election_date'],data=data_df,palette='husl',hue=data_df['will_vote'])\n",
    "plt.xticks(rotation=15)\n",
    "plt.show()"
   ]
  },
  {
   "cell_type": "code",
   "execution_count": 24,
   "metadata": {
    "colab": {
     "base_uri": "https://localhost:8080/",
     "height": 632
    },
    "id": "IMpHikPVKwwl",
    "outputId": "bd6e3ef7-842c-44d2-ecd1-4c12a648e5ee"
   },
   "outputs": [
    {
     "data": {
      "image/png": "[encoded data removed]",
      "text/plain": [
       "<Figure size 640x480 with 1 Axes>"
      ]
     },
     "metadata": {},
     "output_type": "display_data"
    }
   ],
   "source": [
    "sns.countplot(x=data_df['education'],data=data_df,palette='husl',hue=data_df['will_vote'])\n",
    "plt.xticks(rotation=75)\n",
    "plt.show()"
   ]
  },
  {
   "cell_type": "code",
   "execution_count": null,
   "metadata": {},
   "outputs": [],
   "source": []
  }
 ],
 "metadata": {
  "colab": {
   "provenance": []
  },
  "kernelspec": {
   "display_name": "Python 3 (ipykernel)",
   "language": "python",
   "name": "python3"
  },
  "language_info": {
   "codemirror_mode": {
    "name": "ipython",
    "version": 3
   },
   "file_extension": ".py",
   "mimetype": "text/x-python",
   "name": "python",
   "nbconvert_exporter": "python",
   "pygments_lexer": "ipython3",
   "version": "3.11.7"
  }
 },
 "nbformat": 4,
 "nbformat_minor": 4
}
